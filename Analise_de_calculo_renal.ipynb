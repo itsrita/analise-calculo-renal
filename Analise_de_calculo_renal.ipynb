{
  "nbformat": 4,
  "nbformat_minor": 0,
  "metadata": {
    "colab": {
      "provenance": [],
      "include_colab_link": true
    },
    "kernelspec": {
      "name": "python3",
      "display_name": "Python 3"
    },
    "language_info": {
      "name": "python"
    }
  },
  "cells": [
    {
      "cell_type": "markdown",
      "metadata": {
        "id": "view-in-github",
        "colab_type": "text"
      },
      "source": [
        "<a href=\"https://colab.research.google.com/github/itsrita/analise-calculo-renal/blob/main/Analise_de_calculo_renal.ipynb\" target=\"_parent\"><img src=\"https://colab.research.google.com/assets/colab-badge.svg\" alt=\"Open In Colab\"/></a>"
      ]
    },
    {
      "cell_type": "code",
      "source": [
        "# Instalando o PySpark para a análise\n",
        "!pip install pyspark"
      ],
      "metadata": {
        "id": "-JPtxEma9bzB",
        "colab": {
          "base_uri": "https://localhost:8080/"
        },
        "outputId": "6bbd2c0b-cb9f-4f7f-b893-b0642b0eefa0"
      },
      "execution_count": 41,
      "outputs": [
        {
          "output_type": "stream",
          "name": "stdout",
          "text": [
            "Requirement already satisfied: pyspark in /usr/local/lib/python3.10/dist-packages (3.5.1)\n",
            "Requirement already satisfied: py4j==0.10.9.7 in /usr/local/lib/python3.10/dist-packages (from pyspark) (0.10.9.7)\n"
          ]
        }
      ]
    },
    {
      "cell_type": "code",
      "source": [
        "# configurando e iniciando uma sessão Spark em modo local\n",
        "from pyspark.sql import SparkSession\n",
        "sc = SparkSession.builder.master('local[*]').getOrCreate()"
      ],
      "metadata": {
        "id": "O1IKD4r99nOO"
      },
      "execution_count": 42,
      "outputs": []
    },
    {
      "cell_type": "code",
      "source": [
        "# Importando classes da biblioteca 'pyspark.ml' para construir, treinar e avaliar modelos de classificação e regressão\n",
        "from pyspark.ml.classification import DecisionTreeClassifier\n",
        "from pyspark.ml.evaluation import MulticlassClassificationEvaluator\n",
        "from pyspark.ml.regression import LinearRegression\n",
        "from pyspark.ml.feature import VectorAssembler\n",
        "from pyspark.ml.evaluation import RegressionEvaluator"
      ],
      "metadata": {
        "id": "6GedCxgXsbc2"
      },
      "execution_count": 43,
      "outputs": []
    },
    {
      "cell_type": "code",
      "source": [
        "# Montando o Google Drive em um ambiente do Google Colab\n",
        "from google.colab import drive\n",
        "drive.mount('/content/drive')"
      ],
      "metadata": {
        "colab": {
          "base_uri": "https://localhost:8080/"
        },
        "id": "4Pruq2TLtixC",
        "outputId": "a85da804-cecb-470b-ce73-2ded0a5f5de8"
      },
      "execution_count": 44,
      "outputs": [
        {
          "output_type": "stream",
          "name": "stdout",
          "text": [
            "Drive already mounted at /content/drive; to attempt to forcibly remount, call drive.mount(\"/content/drive\", force_remount=True).\n"
          ]
        }
      ]
    },
    {
      "cell_type": "code",
      "source": [
        "# Lendo o arquivo CSV e armazenando os dados em um DataFrame do Spark\n",
        "dados_spark = sc.read.csv(\"/content/drive/MyDrive/Colab Notebooks/calculo_renal.csv\", header=True)\n",
        "type(dados_spark)"
      ],
      "metadata": {
        "id": "WJ1leI6pjY4Y",
        "colab": {
          "base_uri": "https://localhost:8080/",
          "height": 187
        },
        "outputId": "41390a8e-2411-486b-b267-1c34fcc5f3b5"
      },
      "execution_count": 45,
      "outputs": [
        {
          "output_type": "execute_result",
          "data": {
            "text/plain": [
              "pyspark.sql.dataframe.DataFrame"
            ],
            "text/html": [
              "<div style=\"max-width:800px; border: 1px solid var(--colab-border-color);\"><style>\n",
              "      pre.function-repr-contents {\n",
              "        overflow-x: auto;\n",
              "        padding: 8px 12px;\n",
              "        max-height: 500px;\n",
              "      }\n",
              "\n",
              "      pre.function-repr-contents.function-repr-contents-collapsed {\n",
              "        cursor: pointer;\n",
              "        max-height: 100px;\n",
              "      }\n",
              "    </style>\n",
              "    <pre style=\"white-space: initial; background:\n",
              "         var(--colab-secondary-surface-color); padding: 8px 12px;\n",
              "         border-bottom: 1px solid var(--colab-border-color);\"><b>pyspark.sql.dataframe.DataFrame</b><br/>def __init__(jdf: JavaObject, sql_ctx: Union[&#x27;SQLContext&#x27;, &#x27;SparkSession&#x27;])</pre><pre class=\"function-repr-contents function-repr-contents-collapsed\" style=\"\"><a class=\"filepath\" style=\"display:none\" href=\"#\">/usr/local/lib/python3.10/dist-packages/pyspark/sql/dataframe.py</a>A distributed collection of data grouped into named columns.\n",
              "\n",
              ".. versionadded:: 1.3.0\n",
              "\n",
              ".. versionchanged:: 3.4.0\n",
              "    Supports Spark Connect.\n",
              "\n",
              "Examples\n",
              "--------\n",
              "A :class:`DataFrame` is equivalent to a relational table in Spark SQL,\n",
              "and can be created using various functions in :class:`SparkSession`:\n",
              "\n",
              "&gt;&gt;&gt; people = spark.createDataFrame([\n",
              "...     {&quot;deptId&quot;: 1, &quot;age&quot;: 40, &quot;name&quot;: &quot;Hyukjin Kwon&quot;, &quot;gender&quot;: &quot;M&quot;, &quot;salary&quot;: 50},\n",
              "...     {&quot;deptId&quot;: 1, &quot;age&quot;: 50, &quot;name&quot;: &quot;Takuya Ueshin&quot;, &quot;gender&quot;: &quot;M&quot;, &quot;salary&quot;: 100},\n",
              "...     {&quot;deptId&quot;: 2, &quot;age&quot;: 60, &quot;name&quot;: &quot;Xinrong Meng&quot;, &quot;gender&quot;: &quot;F&quot;, &quot;salary&quot;: 150},\n",
              "...     {&quot;deptId&quot;: 3, &quot;age&quot;: 20, &quot;name&quot;: &quot;Haejoon Lee&quot;, &quot;gender&quot;: &quot;M&quot;, &quot;salary&quot;: 200}\n",
              "... ])\n",
              "\n",
              "Once created, it can be manipulated using the various domain-specific-language\n",
              "(DSL) functions defined in: :class:`DataFrame`, :class:`Column`.\n",
              "\n",
              "To select a column from the :class:`DataFrame`, use the apply method:\n",
              "\n",
              "&gt;&gt;&gt; age_col = people.age\n",
              "\n",
              "A more concrete example:\n",
              "\n",
              "&gt;&gt;&gt; # To create DataFrame using SparkSession\n",
              "... department = spark.createDataFrame([\n",
              "...     {&quot;id&quot;: 1, &quot;name&quot;: &quot;PySpark&quot;},\n",
              "...     {&quot;id&quot;: 2, &quot;name&quot;: &quot;ML&quot;},\n",
              "...     {&quot;id&quot;: 3, &quot;name&quot;: &quot;Spark SQL&quot;}\n",
              "... ])\n",
              "\n",
              "&gt;&gt;&gt; people.filter(people.age &gt; 30).join(\n",
              "...     department, people.deptId == department.id).groupBy(\n",
              "...     department.name, &quot;gender&quot;).agg({&quot;salary&quot;: &quot;avg&quot;, &quot;age&quot;: &quot;max&quot;}).show()\n",
              "+-------+------+-----------+--------+\n",
              "|   name|gender|avg(salary)|max(age)|\n",
              "+-------+------+-----------+--------+\n",
              "|     ML|     F|      150.0|      60|\n",
              "|PySpark|     M|       75.0|      50|\n",
              "+-------+------+-----------+--------+\n",
              "\n",
              "Notes\n",
              "-----\n",
              "A DataFrame should only be created as described above. It should not be directly\n",
              "created via using the constructor.</pre>\n",
              "      <script>\n",
              "      if (google.colab.kernel.accessAllowed && google.colab.files && google.colab.files.view) {\n",
              "        for (const element of document.querySelectorAll('.filepath')) {\n",
              "          element.style.display = 'block'\n",
              "          element.onclick = (event) => {\n",
              "            event.preventDefault();\n",
              "            event.stopPropagation();\n",
              "            google.colab.files.view(element.textContent, 80);\n",
              "          };\n",
              "        }\n",
              "      }\n",
              "      for (const element of document.querySelectorAll('.function-repr-contents')) {\n",
              "        element.onclick = (event) => {\n",
              "          event.preventDefault();\n",
              "          event.stopPropagation();\n",
              "          element.classList.toggle('function-repr-contents-collapsed');\n",
              "        };\n",
              "      }\n",
              "      </script>\n",
              "      </div>"
            ]
          },
          "metadata": {},
          "execution_count": 45
        }
      ]
    },
    {
      "cell_type": "code",
      "source": [
        "# Exibindo as 10 primeiras linhas do DataFrame\n",
        "dados_spark.show(10)"
      ],
      "metadata": {
        "id": "DGpFbKY_EUST",
        "colab": {
          "base_uri": "https://localhost:8080/"
        },
        "outputId": "dd8c51ce-18ed-4022-eb82-afb9668fcb22"
      },
      "execution_count": 46,
      "outputs": [
        {
          "output_type": "stream",
          "name": "stdout",
          "text": [
            "+---+---------+----+----+----+-----+------+-----+\n",
            "| id|gravidade|  ph|osmo|cond|ureia|calcio|saida|\n",
            "+---+---------+----+----+----+-----+------+-----+\n",
            "|  0|    1.013|6.19| 443|14.8|  124|  1.45|    0|\n",
            "|  1|    1.025| 5.4| 703|23.6|  394|  4.18|    0|\n",
            "|  2|    1.009|6.13| 371|24.5|  159|  9.04|    0|\n",
            "|  3|    1.021|4.91| 442|20.8|  398|  6.63|    1|\n",
            "|  4|    1.021|5.53| 874|17.8|  385|  2.21|    1|\n",
            "|  5|    1.025| 6.9| 947|28.4|  395|  2.64|    1|\n",
            "|  6|    1.008|5.09| 371|15.5|  159|  2.17|    1|\n",
            "|  7|    1.015|5.53| 450| 8.1|  170|  1.16|    0|\n",
            "|  8|    1.025|7.38| 736|25.3|  418|  1.52|    0|\n",
            "|  9|    1.017|6.61| 527|20.0|   75|  4.49|    1|\n",
            "+---+---------+----+----+----+-----+------+-----+\n",
            "only showing top 10 rows\n",
            "\n"
          ]
        }
      ]
    },
    {
      "cell_type": "code",
      "source": [
        "# Exibindo a estrutura das colunas e seus tipos de dados do DataFrame\n",
        "dados_spark.printSchema()"
      ],
      "metadata": {
        "id": "GW0i9-jtElLb",
        "colab": {
          "base_uri": "https://localhost:8080/"
        },
        "outputId": "db5a8069-56b0-4264-9354-ab87371b3e11"
      },
      "execution_count": 47,
      "outputs": [
        {
          "output_type": "stream",
          "name": "stdout",
          "text": [
            "root\n",
            " |-- id: string (nullable = true)\n",
            " |-- gravidade: string (nullable = true)\n",
            " |-- ph: string (nullable = true)\n",
            " |-- osmo: string (nullable = true)\n",
            " |-- cond: string (nullable = true)\n",
            " |-- ureia: string (nullable = true)\n",
            " |-- calcio: string (nullable = true)\n",
            " |-- saida: string (nullable = true)\n",
            "\n"
          ]
        }
      ]
    },
    {
      "cell_type": "code",
      "source": [
        "# Exibindo as colunas que serão utilizadas na análise do DataFrame\n",
        "dados_selecionados = dados_spark.select(\"id\",\"gravidade\",\"ph\",\"osmo\",\"cond\",\"ureia\",\"calcio\",\"saida\").show(10)"
      ],
      "metadata": {
        "id": "f5F3dz1pkRwk",
        "colab": {
          "base_uri": "https://localhost:8080/"
        },
        "outputId": "1f30ecb0-c178-4464-88d0-9979b2c86c58"
      },
      "execution_count": 48,
      "outputs": [
        {
          "output_type": "stream",
          "name": "stdout",
          "text": [
            "+---+---------+----+----+----+-----+------+-----+\n",
            "| id|gravidade|  ph|osmo|cond|ureia|calcio|saida|\n",
            "+---+---------+----+----+----+-----+------+-----+\n",
            "|  0|    1.013|6.19| 443|14.8|  124|  1.45|    0|\n",
            "|  1|    1.025| 5.4| 703|23.6|  394|  4.18|    0|\n",
            "|  2|    1.009|6.13| 371|24.5|  159|  9.04|    0|\n",
            "|  3|    1.021|4.91| 442|20.8|  398|  6.63|    1|\n",
            "|  4|    1.021|5.53| 874|17.8|  385|  2.21|    1|\n",
            "|  5|    1.025| 6.9| 947|28.4|  395|  2.64|    1|\n",
            "|  6|    1.008|5.09| 371|15.5|  159|  2.17|    1|\n",
            "|  7|    1.015|5.53| 450| 8.1|  170|  1.16|    0|\n",
            "|  8|    1.025|7.38| 736|25.3|  418|  1.52|    0|\n",
            "|  9|    1.017|6.61| 527|20.0|   75|  4.49|    1|\n",
            "+---+---------+----+----+----+-----+------+-----+\n",
            "only showing top 10 rows\n",
            "\n"
          ]
        }
      ]
    },
    {
      "cell_type": "code",
      "source": [
        "# Resumindo estatísticas descritivas do conjunto de dados para a coluna \"id\"\n",
        "dados_spark.describe(\"id\").show(5)"
      ],
      "metadata": {
        "id": "0oflcUOakpJE",
        "colab": {
          "base_uri": "https://localhost:8080/"
        },
        "outputId": "0d7c5187-72f9-42f7-a7d6-dc69bd074b29"
      },
      "execution_count": 49,
      "outputs": [
        {
          "output_type": "stream",
          "name": "stdout",
          "text": [
            "+-------+-----------------+\n",
            "|summary|               id|\n",
            "+-------+-----------------+\n",
            "|  count|              414|\n",
            "|   mean|            206.5|\n",
            "| stddev|119.6557562342907|\n",
            "|    min|                0|\n",
            "|    max|               99|\n",
            "+-------+-----------------+\n",
            "\n"
          ]
        }
      ]
    },
    {
      "cell_type": "code",
      "source": [
        "# Filtrando os valores da coluna 'gravidade'\n",
        "dados_spark.select(\"gravidade\").distinct().show()"
      ],
      "metadata": {
        "id": "pqV94zc-k-En",
        "colab": {
          "base_uri": "https://localhost:8080/"
        },
        "outputId": "a57b8872-8dcd-489c-93e4-611c47da375d"
      },
      "execution_count": 50,
      "outputs": [
        {
          "output_type": "stream",
          "name": "stdout",
          "text": [
            "+---------+\n",
            "|gravidade|\n",
            "+---------+\n",
            "|    1.021|\n",
            "|    1.012|\n",
            "|    1.033|\n",
            "|    1.019|\n",
            "|    1.006|\n",
            "|    1.013|\n",
            "|    1.029|\n",
            "|     1.01|\n",
            "|    1.017|\n",
            "|     1.02|\n",
            "|    1.018|\n",
            "|    1.027|\n",
            "|    1.005|\n",
            "|    1.023|\n",
            "|    1.007|\n",
            "|    1.031|\n",
            "|    1.009|\n",
            "|    1.026|\n",
            "|    1.028|\n",
            "|    1.011|\n",
            "+---------+\n",
            "only showing top 20 rows\n",
            "\n"
          ]
        }
      ]
    },
    {
      "cell_type": "code",
      "source": [
        "# Agrupando os dados por \"gravidade\" e agregando a soma dos valores da coluna \"ph\"\n",
        "from pyspark.sql import functions as F\n",
        "dados_spark.groupBy(\"gravidade\").agg(F.sum(\"ph\")).show()"
      ],
      "metadata": {
        "id": "GsC55YsQlZ_N",
        "colab": {
          "base_uri": "https://localhost:8080/"
        },
        "outputId": "a68344a1-0468-41c1-a27b-5af412f86eab"
      },
      "execution_count": 51,
      "outputs": [
        {
          "output_type": "stream",
          "name": "stdout",
          "text": [
            "+---------+------------------+\n",
            "|gravidade|           sum(ph)|\n",
            "+---------+------------------+\n",
            "|    1.021|            284.12|\n",
            "|    1.012|52.760000000000005|\n",
            "|    1.033|21.910000000000004|\n",
            "|    1.019|             58.13|\n",
            "|    1.006|             12.09|\n",
            "|    1.013|             52.51|\n",
            "|    1.029|              6.76|\n",
            "|     1.01|127.93999999999998|\n",
            "|    1.017| 303.6600000000001|\n",
            "|     1.02|180.07000000000005|\n",
            "|    1.018| 85.75999999999999|\n",
            "|    1.027|              5.24|\n",
            "|    1.005|             19.06|\n",
            "|    1.023|57.019999999999996|\n",
            "|    1.007|54.190000000000005|\n",
            "|    1.031|             22.28|\n",
            "|    1.009|             50.26|\n",
            "|    1.026|58.480000000000004|\n",
            "|    1.028|             36.94|\n",
            "|    1.011|173.60000000000002|\n",
            "+---------+------------------+\n",
            "only showing top 20 rows\n",
            "\n"
          ]
        }
      ]
    },
    {
      "cell_type": "code",
      "source": [
        "# Agrupando dados pela coluna 'gravidade' contando o número de ocorrências de cada valor único na coluna 'ph',\n",
        "# ordenando essas contagens em ordem decrescente e mostrando os 10 resultados mais frequentes\n",
        "categoria_popular = dados_spark.groupBy('gravidade').agg(F.count('ph')).orderBy(F.count('ph').desc()).show(10)"
      ],
      "metadata": {
        "id": "xuxzdgTL-f_3",
        "colab": {
          "base_uri": "https://localhost:8080/"
        },
        "outputId": "ed85e042-035e-435e-a6c0-72abb0043704"
      },
      "execution_count": 52,
      "outputs": [
        {
          "output_type": "stream",
          "name": "stdout",
          "text": [
            "+---------+---------+\n",
            "|gravidade|count(ph)|\n",
            "+---------+---------+\n",
            "|    1.021|       51|\n",
            "|    1.017|       49|\n",
            "|     1.02|       31|\n",
            "|    1.025|       30|\n",
            "|    1.008|       29|\n",
            "|    1.011|       28|\n",
            "|    1.024|       24|\n",
            "|    1.015|       21|\n",
            "|     1.01|       20|\n",
            "|    1.018|       14|\n",
            "+---------+---------+\n",
            "only showing top 10 rows\n",
            "\n"
          ]
        }
      ]
    },
    {
      "cell_type": "code",
      "source": [
        "# Agrupando os dados na coluna 'cond', contando o número de ocorrências de cada valor na coluna 'calcio' e classificando em ordem decrescente\n",
        "categoria_popular = dados_spark.groupBy('cond').agg(F.count('calcio')).orderBy(F.count('calcio').desc()).show()"
      ],
      "metadata": {
        "id": "ZoT4xMQOB2wR",
        "colab": {
          "base_uri": "https://localhost:8080/"
        },
        "outputId": "31126a1c-2c95-4ae6-d0b0-e2eb1a0751a4"
      },
      "execution_count": 53,
      "outputs": [
        {
          "output_type": "stream",
          "name": "stdout",
          "text": [
            "+----+-------------+\n",
            "|cond|count(calcio)|\n",
            "+----+-------------+\n",
            "|29.0|           43|\n",
            "|23.6|           28|\n",
            "|27.6|           19|\n",
            "|21.4|           19|\n",
            "|25.7|           16|\n",
            "|11.2|           16|\n",
            "|25.3|           15|\n",
            "|20.0|           11|\n",
            "| 8.8|           11|\n",
            "|26.0|           10|\n",
            "|24.5|            9|\n",
            "|17.8|            9|\n",
            "|20.8|            9|\n",
            "|20.9|            9|\n",
            "|17.4|            9|\n",
            "|27.9|            8|\n",
            "|38.0|            7|\n",
            "| 8.1|            7|\n",
            "| 9.9|            7|\n",
            "|15.5|            7|\n",
            "+----+-------------+\n",
            "only showing top 20 rows\n",
            "\n"
          ]
        }
      ]
    },
    {
      "cell_type": "code",
      "source": [
        "# Agrupando os dados pela coluna 'ureia', contando o número de ocorrências de cada valor de 'cond', ordenando essas contagens em ordem decrescente\n",
        "especie_categoria = dados_spark.groupBy('ureia').agg(F.count('cond')).orderBy(F.count('cond').desc()).show()"
      ],
      "metadata": {
        "id": "Lrbb2Q6L1TtG",
        "colab": {
          "base_uri": "https://localhost:8080/"
        },
        "outputId": "afc058f3-ba7e-45ce-c0fd-baaa6a4a6ec9"
      },
      "execution_count": 54,
      "outputs": [
        {
          "output_type": "stream",
          "name": "stdout",
          "text": [
            "+-----+-----------+\n",
            "|ureia|count(cond)|\n",
            "+-----+-----------+\n",
            "|  159|         16|\n",
            "|   87|         14|\n",
            "|  385|         13|\n",
            "|  395|         13|\n",
            "|   75|         11|\n",
            "|  195|         10|\n",
            "|  398|         10|\n",
            "|  620|         10|\n",
            "|  382|         10|\n",
            "|  301|         10|\n",
            "|  214|          9|\n",
            "|  199|          9|\n",
            "|  224|          9|\n",
            "|  349|          9|\n",
            "|  178|          9|\n",
            "|  239|          9|\n",
            "|   64|          8|\n",
            "|  124|          8|\n",
            "|  430|          8|\n",
            "|  170|          8|\n",
            "+-----+-----------+\n",
            "only showing top 20 rows\n",
            "\n"
          ]
        }
      ]
    },
    {
      "cell_type": "code",
      "source": [
        "# Contando o número de valores nulos em cada coluna do DataFrame\n",
        "dados_spark.select([F.count(F.when(F.isnull(c), c)).alias(c) for c in dados_spark.columns]).show()"
      ],
      "metadata": {
        "id": "7lObwNKmmQLF",
        "colab": {
          "base_uri": "https://localhost:8080/"
        },
        "outputId": "22e72bd4-3c7a-483a-93ce-4637779c30ba"
      },
      "execution_count": 55,
      "outputs": [
        {
          "output_type": "stream",
          "name": "stdout",
          "text": [
            "+---+---------+---+----+----+-----+------+-----+\n",
            "| id|gravidade| ph|osmo|cond|ureia|calcio|saida|\n",
            "+---+---------+---+----+----+-----+------+-----+\n",
            "|  0|        0|  0|   0|   0|    0|     0|    0|\n",
            "+---+---------+---+----+----+-----+------+-----+\n",
            "\n"
          ]
        }
      ]
    },
    {
      "cell_type": "code",
      "source": [
        "# Preenchendo os valores ausentes na coluna 'id' do DataFrame com o valor 'Desconhecido'.\n",
        "dados_spark = dados_spark.fillna({'id':'Desconhecido'})"
      ],
      "metadata": {
        "id": "Gr1pPPNim3vf"
      },
      "execution_count": 56,
      "outputs": []
    },
    {
      "cell_type": "code",
      "source": [
        "# Exibindo as primeiras 25 linhas do DataFrame\n",
        "dados_spark.show(25)"
      ],
      "metadata": {
        "id": "9jXnA27gnT_D",
        "colab": {
          "base_uri": "https://localhost:8080/"
        },
        "outputId": "67a06dc8-ae59-4b62-fc5d-ef4e3c50ffe6"
      },
      "execution_count": 57,
      "outputs": [
        {
          "output_type": "stream",
          "name": "stdout",
          "text": [
            "+---+---------+----+----+----+-----+------+-----+\n",
            "| id|gravidade|  ph|osmo|cond|ureia|calcio|saida|\n",
            "+---+---------+----+----+----+-----+------+-----+\n",
            "|  0|    1.013|6.19| 443|14.8|  124|  1.45|    0|\n",
            "|  1|    1.025| 5.4| 703|23.6|  394|  4.18|    0|\n",
            "|  2|    1.009|6.13| 371|24.5|  159|  9.04|    0|\n",
            "|  3|    1.021|4.91| 442|20.8|  398|  6.63|    1|\n",
            "|  4|    1.021|5.53| 874|17.8|  385|  2.21|    1|\n",
            "|  5|    1.025| 6.9| 947|28.4|  395|  2.64|    1|\n",
            "|  6|    1.008|5.09| 371|15.5|  159|  2.17|    1|\n",
            "|  7|    1.015|5.53| 450| 8.1|  170|  1.16|    0|\n",
            "|  8|    1.025|7.38| 736|25.3|  418|  1.52|    0|\n",
            "|  9|    1.017|6.61| 527|20.0|   75|  4.49|    1|\n",
            "| 10|    1.017|6.81| 680|25.7|  282|  0.17|    1|\n",
            "| 11|    1.009|6.37| 364| 8.8|  159|  1.22|    0|\n",
            "| 12|    1.017|6.79| 541|20.0|  187|  6.96|    1|\n",
            "| 13|    1.021|6.56| 703|22.2|  418|  4.18|    1|\n",
            "| 14|    1.007|7.01| 516|20.0|   72|  1.22|    0|\n",
            "| 15|    1.011|6.81| 251| 9.8|  141|  0.17|    1|\n",
            "| 16|     1.01|6.63| 408|11.2|  224|  2.17|    0|\n",
            "| 17|    1.012|7.38| 760|25.7|  199|  1.05|    0|\n",
            "| 18|    1.018|6.13| 416|12.8|  178|  3.01|    0|\n",
            "| 19|    1.026|5.66|1032|29.1|  430|  8.94|    1|\n",
            "| 20|    1.011|7.01| 395|26.0|   95|  1.53|    0|\n",
            "| 21|    1.018|5.35| 874|29.0|  457|  4.18|    1|\n",
            "| 22|    1.021|5.94| 956|27.6|  473|  4.45|    1|\n",
            "| 23|    1.007|5.87| 704|23.6|  260|  1.53|    0|\n",
            "| 24|    1.021|6.29| 725|19.7|  443|  2.45|    1|\n",
            "+---+---------+----+----+----+-----+------+-----+\n",
            "only showing top 25 rows\n",
            "\n"
          ]
        }
      ]
    },
    {
      "cell_type": "code",
      "source": [
        "# Converte um DataFrame do Spark para um DataFrame do Pandas e, em seguida, salva esse DataFrame do Pandas como um arquivo CSV\n",
        "dados_spark_sem_na_pd = dados_spark.toPandas()\n",
        "dados_spark_sem_na_pd.to_csv(\"dados_pandas.csv\")"
      ],
      "metadata": {
        "id": "PpXIvEW_pxWh"
      },
      "execution_count": 58,
      "outputs": []
    },
    {
      "cell_type": "code",
      "source": [
        "# Exibindo as primeiras 100 linhas do DataFrame convertido de Spark para Pandas, excluindo quaisquer linhas que contenham valores nulos (NA).\n",
        "dados_spark_sem_na_pd.head(100)"
      ],
      "metadata": {
        "colab": {
          "base_uri": "https://localhost:8080/",
          "height": 424
        },
        "id": "F2ZKK_5hd68I",
        "outputId": "f5393ea2-aabc-4505-ed4c-8db9dc4a3ffd"
      },
      "execution_count": 59,
      "outputs": [
        {
          "output_type": "execute_result",
          "data": {
            "text/plain": [
              "    id gravidade    ph  osmo  cond ureia calcio saida\n",
              "0    0     1.013  6.19   443  14.8   124   1.45     0\n",
              "1    1     1.025   5.4   703  23.6   394   4.18     0\n",
              "2    2     1.009  6.13   371  24.5   159   9.04     0\n",
              "3    3     1.021  4.91   442  20.8   398   6.63     1\n",
              "4    4     1.021  5.53   874  17.8   385   2.21     1\n",
              "..  ..       ...   ...   ...   ...   ...    ...   ...\n",
              "95  95     1.021  5.16   947  26.0   398   8.94     1\n",
              "96  96     1.018  5.66   543  21.9   170   1.45     0\n",
              "97  97     1.015  6.79   416  11.5   178   3.93     0\n",
              "98  98     1.017  5.97   487  15.5   255  12.68     0\n",
              "99  99      1.02  5.68  1107  35.8   550   4.49     0\n",
              "\n",
              "[100 rows x 8 columns]"
            ],
            "text/html": [
              "\n",
              "  <div id=\"df-a8a6e794-a43c-42ed-85bc-36d272fd30c1\" class=\"colab-df-container\">\n",
              "    <div>\n",
              "<style scoped>\n",
              "    .dataframe tbody tr th:only-of-type {\n",
              "        vertical-align: middle;\n",
              "    }\n",
              "\n",
              "    .dataframe tbody tr th {\n",
              "        vertical-align: top;\n",
              "    }\n",
              "\n",
              "    .dataframe thead th {\n",
              "        text-align: right;\n",
              "    }\n",
              "</style>\n",
              "<table border=\"1\" class=\"dataframe\">\n",
              "  <thead>\n",
              "    <tr style=\"text-align: right;\">\n",
              "      <th></th>\n",
              "      <th>id</th>\n",
              "      <th>gravidade</th>\n",
              "      <th>ph</th>\n",
              "      <th>osmo</th>\n",
              "      <th>cond</th>\n",
              "      <th>ureia</th>\n",
              "      <th>calcio</th>\n",
              "      <th>saida</th>\n",
              "    </tr>\n",
              "  </thead>\n",
              "  <tbody>\n",
              "    <tr>\n",
              "      <th>0</th>\n",
              "      <td>0</td>\n",
              "      <td>1.013</td>\n",
              "      <td>6.19</td>\n",
              "      <td>443</td>\n",
              "      <td>14.8</td>\n",
              "      <td>124</td>\n",
              "      <td>1.45</td>\n",
              "      <td>0</td>\n",
              "    </tr>\n",
              "    <tr>\n",
              "      <th>1</th>\n",
              "      <td>1</td>\n",
              "      <td>1.025</td>\n",
              "      <td>5.4</td>\n",
              "      <td>703</td>\n",
              "      <td>23.6</td>\n",
              "      <td>394</td>\n",
              "      <td>4.18</td>\n",
              "      <td>0</td>\n",
              "    </tr>\n",
              "    <tr>\n",
              "      <th>2</th>\n",
              "      <td>2</td>\n",
              "      <td>1.009</td>\n",
              "      <td>6.13</td>\n",
              "      <td>371</td>\n",
              "      <td>24.5</td>\n",
              "      <td>159</td>\n",
              "      <td>9.04</td>\n",
              "      <td>0</td>\n",
              "    </tr>\n",
              "    <tr>\n",
              "      <th>3</th>\n",
              "      <td>3</td>\n",
              "      <td>1.021</td>\n",
              "      <td>4.91</td>\n",
              "      <td>442</td>\n",
              "      <td>20.8</td>\n",
              "      <td>398</td>\n",
              "      <td>6.63</td>\n",
              "      <td>1</td>\n",
              "    </tr>\n",
              "    <tr>\n",
              "      <th>4</th>\n",
              "      <td>4</td>\n",
              "      <td>1.021</td>\n",
              "      <td>5.53</td>\n",
              "      <td>874</td>\n",
              "      <td>17.8</td>\n",
              "      <td>385</td>\n",
              "      <td>2.21</td>\n",
              "      <td>1</td>\n",
              "    </tr>\n",
              "    <tr>\n",
              "      <th>...</th>\n",
              "      <td>...</td>\n",
              "      <td>...</td>\n",
              "      <td>...</td>\n",
              "      <td>...</td>\n",
              "      <td>...</td>\n",
              "      <td>...</td>\n",
              "      <td>...</td>\n",
              "      <td>...</td>\n",
              "    </tr>\n",
              "    <tr>\n",
              "      <th>95</th>\n",
              "      <td>95</td>\n",
              "      <td>1.021</td>\n",
              "      <td>5.16</td>\n",
              "      <td>947</td>\n",
              "      <td>26.0</td>\n",
              "      <td>398</td>\n",
              "      <td>8.94</td>\n",
              "      <td>1</td>\n",
              "    </tr>\n",
              "    <tr>\n",
              "      <th>96</th>\n",
              "      <td>96</td>\n",
              "      <td>1.018</td>\n",
              "      <td>5.66</td>\n",
              "      <td>543</td>\n",
              "      <td>21.9</td>\n",
              "      <td>170</td>\n",
              "      <td>1.45</td>\n",
              "      <td>0</td>\n",
              "    </tr>\n",
              "    <tr>\n",
              "      <th>97</th>\n",
              "      <td>97</td>\n",
              "      <td>1.015</td>\n",
              "      <td>6.79</td>\n",
              "      <td>416</td>\n",
              "      <td>11.5</td>\n",
              "      <td>178</td>\n",
              "      <td>3.93</td>\n",
              "      <td>0</td>\n",
              "    </tr>\n",
              "    <tr>\n",
              "      <th>98</th>\n",
              "      <td>98</td>\n",
              "      <td>1.017</td>\n",
              "      <td>5.97</td>\n",
              "      <td>487</td>\n",
              "      <td>15.5</td>\n",
              "      <td>255</td>\n",
              "      <td>12.68</td>\n",
              "      <td>0</td>\n",
              "    </tr>\n",
              "    <tr>\n",
              "      <th>99</th>\n",
              "      <td>99</td>\n",
              "      <td>1.02</td>\n",
              "      <td>5.68</td>\n",
              "      <td>1107</td>\n",
              "      <td>35.8</td>\n",
              "      <td>550</td>\n",
              "      <td>4.49</td>\n",
              "      <td>0</td>\n",
              "    </tr>\n",
              "  </tbody>\n",
              "</table>\n",
              "<p>100 rows × 8 columns</p>\n",
              "</div>\n",
              "    <div class=\"colab-df-buttons\">\n",
              "\n",
              "  <div class=\"colab-df-container\">\n",
              "    <button class=\"colab-df-convert\" onclick=\"convertToInteractive('df-a8a6e794-a43c-42ed-85bc-36d272fd30c1')\"\n",
              "            title=\"Convert this dataframe to an interactive table.\"\n",
              "            style=\"display:none;\">\n",
              "\n",
              "  <svg xmlns=\"http://www.w3.org/2000/svg\" height=\"24px\" viewBox=\"0 -960 960 960\">\n",
              "    <path d=\"M120-120v-720h720v720H120Zm60-500h600v-160H180v160Zm220 220h160v-160H400v160Zm0 220h160v-160H400v160ZM180-400h160v-160H180v160Zm440 0h160v-160H620v160ZM180-180h160v-160H180v160Zm440 0h160v-160H620v160Z\"/>\n",
              "  </svg>\n",
              "    </button>\n",
              "\n",
              "  <style>\n",
              "    .colab-df-container {\n",
              "      display:flex;\n",
              "      gap: 12px;\n",
              "    }\n",
              "\n",
              "    .colab-df-convert {\n",
              "      background-color: #E8F0FE;\n",
              "      border: none;\n",
              "      border-radius: 50%;\n",
              "      cursor: pointer;\n",
              "      display: none;\n",
              "      fill: #1967D2;\n",
              "      height: 32px;\n",
              "      padding: 0 0 0 0;\n",
              "      width: 32px;\n",
              "    }\n",
              "\n",
              "    .colab-df-convert:hover {\n",
              "      background-color: #E2EBFA;\n",
              "      box-shadow: 0px 1px 2px rgba(60, 64, 67, 0.3), 0px 1px 3px 1px rgba(60, 64, 67, 0.15);\n",
              "      fill: #174EA6;\n",
              "    }\n",
              "\n",
              "    .colab-df-buttons div {\n",
              "      margin-bottom: 4px;\n",
              "    }\n",
              "\n",
              "    [theme=dark] .colab-df-convert {\n",
              "      background-color: #3B4455;\n",
              "      fill: #D2E3FC;\n",
              "    }\n",
              "\n",
              "    [theme=dark] .colab-df-convert:hover {\n",
              "      background-color: #434B5C;\n",
              "      box-shadow: 0px 1px 3px 1px rgba(0, 0, 0, 0.15);\n",
              "      filter: drop-shadow(0px 1px 2px rgba(0, 0, 0, 0.3));\n",
              "      fill: #FFFFFF;\n",
              "    }\n",
              "  </style>\n",
              "\n",
              "    <script>\n",
              "      const buttonEl =\n",
              "        document.querySelector('#df-a8a6e794-a43c-42ed-85bc-36d272fd30c1 button.colab-df-convert');\n",
              "      buttonEl.style.display =\n",
              "        google.colab.kernel.accessAllowed ? 'block' : 'none';\n",
              "\n",
              "      async function convertToInteractive(key) {\n",
              "        const element = document.querySelector('#df-a8a6e794-a43c-42ed-85bc-36d272fd30c1');\n",
              "        const dataTable =\n",
              "          await google.colab.kernel.invokeFunction('convertToInteractive',\n",
              "                                                    [key], {});\n",
              "        if (!dataTable) return;\n",
              "\n",
              "        const docLinkHtml = 'Like what you see? Visit the ' +\n",
              "          '<a target=\"_blank\" href=https://colab.research.google.com/notebooks/data_table.ipynb>data table notebook</a>'\n",
              "          + ' to learn more about interactive tables.';\n",
              "        element.innerHTML = '';\n",
              "        dataTable['output_type'] = 'display_data';\n",
              "        await google.colab.output.renderOutput(dataTable, element);\n",
              "        const docLink = document.createElement('div');\n",
              "        docLink.innerHTML = docLinkHtml;\n",
              "        element.appendChild(docLink);\n",
              "      }\n",
              "    </script>\n",
              "  </div>\n",
              "\n",
              "\n",
              "<div id=\"df-9f2c3bfe-cdfb-4f3e-b41e-25c4bccac454\">\n",
              "  <button class=\"colab-df-quickchart\" onclick=\"quickchart('df-9f2c3bfe-cdfb-4f3e-b41e-25c4bccac454')\"\n",
              "            title=\"Suggest charts\"\n",
              "            style=\"display:none;\">\n",
              "\n",
              "<svg xmlns=\"http://www.w3.org/2000/svg\" height=\"24px\"viewBox=\"0 0 24 24\"\n",
              "     width=\"24px\">\n",
              "    <g>\n",
              "        <path d=\"M19 3H5c-1.1 0-2 .9-2 2v14c0 1.1.9 2 2 2h14c1.1 0 2-.9 2-2V5c0-1.1-.9-2-2-2zM9 17H7v-7h2v7zm4 0h-2V7h2v10zm4 0h-2v-4h2v4z\"/>\n",
              "    </g>\n",
              "</svg>\n",
              "  </button>\n",
              "\n",
              "<style>\n",
              "  .colab-df-quickchart {\n",
              "      --bg-color: #E8F0FE;\n",
              "      --fill-color: #1967D2;\n",
              "      --hover-bg-color: #E2EBFA;\n",
              "      --hover-fill-color: #174EA6;\n",
              "      --disabled-fill-color: #AAA;\n",
              "      --disabled-bg-color: #DDD;\n",
              "  }\n",
              "\n",
              "  [theme=dark] .colab-df-quickchart {\n",
              "      --bg-color: #3B4455;\n",
              "      --fill-color: #D2E3FC;\n",
              "      --hover-bg-color: #434B5C;\n",
              "      --hover-fill-color: #FFFFFF;\n",
              "      --disabled-bg-color: #3B4455;\n",
              "      --disabled-fill-color: #666;\n",
              "  }\n",
              "\n",
              "  .colab-df-quickchart {\n",
              "    background-color: var(--bg-color);\n",
              "    border: none;\n",
              "    border-radius: 50%;\n",
              "    cursor: pointer;\n",
              "    display: none;\n",
              "    fill: var(--fill-color);\n",
              "    height: 32px;\n",
              "    padding: 0;\n",
              "    width: 32px;\n",
              "  }\n",
              "\n",
              "  .colab-df-quickchart:hover {\n",
              "    background-color: var(--hover-bg-color);\n",
              "    box-shadow: 0 1px 2px rgba(60, 64, 67, 0.3), 0 1px 3px 1px rgba(60, 64, 67, 0.15);\n",
              "    fill: var(--button-hover-fill-color);\n",
              "  }\n",
              "\n",
              "  .colab-df-quickchart-complete:disabled,\n",
              "  .colab-df-quickchart-complete:disabled:hover {\n",
              "    background-color: var(--disabled-bg-color);\n",
              "    fill: var(--disabled-fill-color);\n",
              "    box-shadow: none;\n",
              "  }\n",
              "\n",
              "  .colab-df-spinner {\n",
              "    border: 2px solid var(--fill-color);\n",
              "    border-color: transparent;\n",
              "    border-bottom-color: var(--fill-color);\n",
              "    animation:\n",
              "      spin 1s steps(1) infinite;\n",
              "  }\n",
              "\n",
              "  @keyframes spin {\n",
              "    0% {\n",
              "      border-color: transparent;\n",
              "      border-bottom-color: var(--fill-color);\n",
              "      border-left-color: var(--fill-color);\n",
              "    }\n",
              "    20% {\n",
              "      border-color: transparent;\n",
              "      border-left-color: var(--fill-color);\n",
              "      border-top-color: var(--fill-color);\n",
              "    }\n",
              "    30% {\n",
              "      border-color: transparent;\n",
              "      border-left-color: var(--fill-color);\n",
              "      border-top-color: var(--fill-color);\n",
              "      border-right-color: var(--fill-color);\n",
              "    }\n",
              "    40% {\n",
              "      border-color: transparent;\n",
              "      border-right-color: var(--fill-color);\n",
              "      border-top-color: var(--fill-color);\n",
              "    }\n",
              "    60% {\n",
              "      border-color: transparent;\n",
              "      border-right-color: var(--fill-color);\n",
              "    }\n",
              "    80% {\n",
              "      border-color: transparent;\n",
              "      border-right-color: var(--fill-color);\n",
              "      border-bottom-color: var(--fill-color);\n",
              "    }\n",
              "    90% {\n",
              "      border-color: transparent;\n",
              "      border-bottom-color: var(--fill-color);\n",
              "    }\n",
              "  }\n",
              "</style>\n",
              "\n",
              "  <script>\n",
              "    async function quickchart(key) {\n",
              "      const quickchartButtonEl =\n",
              "        document.querySelector('#' + key + ' button');\n",
              "      quickchartButtonEl.disabled = true;  // To prevent multiple clicks.\n",
              "      quickchartButtonEl.classList.add('colab-df-spinner');\n",
              "      try {\n",
              "        const charts = await google.colab.kernel.invokeFunction(\n",
              "            'suggestCharts', [key], {});\n",
              "      } catch (error) {\n",
              "        console.error('Error during call to suggestCharts:', error);\n",
              "      }\n",
              "      quickchartButtonEl.classList.remove('colab-df-spinner');\n",
              "      quickchartButtonEl.classList.add('colab-df-quickchart-complete');\n",
              "    }\n",
              "    (() => {\n",
              "      let quickchartButtonEl =\n",
              "        document.querySelector('#df-9f2c3bfe-cdfb-4f3e-b41e-25c4bccac454 button');\n",
              "      quickchartButtonEl.style.display =\n",
              "        google.colab.kernel.accessAllowed ? 'block' : 'none';\n",
              "    })();\n",
              "  </script>\n",
              "</div>\n",
              "\n",
              "    </div>\n",
              "  </div>\n"
            ],
            "application/vnd.google.colaboratory.intrinsic+json": {
              "type": "dataframe",
              "variable_name": "dados_spark_sem_na_pd",
              "summary": "{\n  \"name\": \"dados_spark_sem_na_pd\",\n  \"rows\": 414,\n  \"fields\": [\n    {\n      \"column\": \"id\",\n      \"properties\": {\n        \"dtype\": \"string\",\n        \"num_unique_values\": 414,\n        \"samples\": [\n          \"358\",\n          \"350\",\n          \"373\"\n        ],\n        \"semantic_type\": \"\",\n        \"description\": \"\"\n      }\n    },\n    {\n      \"column\": \"gravidade\",\n      \"properties\": {\n        \"dtype\": \"category\",\n        \"num_unique_values\": 28,\n        \"samples\": [\n          \"1.01\",\n          \"1.04\",\n          \"1.011\"\n        ],\n        \"semantic_type\": \"\",\n        \"description\": \"\"\n      }\n    },\n    {\n      \"column\": \"ph\",\n      \"properties\": {\n        \"dtype\": \"category\",\n        \"num_unique_values\": 71,\n        \"samples\": [\n          \"5.58\",\n          \"6.19\",\n          \"5.67\"\n        ],\n        \"semantic_type\": \"\",\n        \"description\": \"\"\n      }\n    },\n    {\n      \"column\": \"osmo\",\n      \"properties\": {\n        \"dtype\": \"category\",\n        \"num_unique_values\": 80,\n        \"samples\": [\n          \"907\",\n          \"443\",\n          \"341\"\n        ],\n        \"semantic_type\": \"\",\n        \"description\": \"\"\n      }\n    },\n    {\n      \"column\": \"cond\",\n      \"properties\": {\n        \"dtype\": \"category\",\n        \"num_unique_values\": 65,\n        \"samples\": [\n          \"14.6\",\n          \"27.5\",\n          \"14.8\"\n        ],\n        \"semantic_type\": \"\",\n        \"description\": \"\"\n      }\n    },\n    {\n      \"column\": \"ureia\",\n      \"properties\": {\n        \"dtype\": \"category\",\n        \"num_unique_values\": 73,\n        \"samples\": [\n          \"385\",\n          \"325\",\n          \"457\"\n        ],\n        \"semantic_type\": \"\",\n        \"description\": \"\"\n      }\n    },\n    {\n      \"column\": \"calcio\",\n      \"properties\": {\n        \"dtype\": \"category\",\n        \"num_unique_values\": 85,\n        \"samples\": [\n          \"1.58\",\n          \"1.45\",\n          \"8.53\"\n        ],\n        \"semantic_type\": \"\",\n        \"description\": \"\"\n      }\n    },\n    {\n      \"column\": \"saida\",\n      \"properties\": {\n        \"dtype\": \"category\",\n        \"num_unique_values\": 2,\n        \"samples\": [\n          \"1\",\n          \"0\"\n        ],\n        \"semantic_type\": \"\",\n        \"description\": \"\"\n      }\n    }\n  ]\n}"
            }
          },
          "metadata": {},
          "execution_count": 59
        }
      ]
    },
    {
      "cell_type": "code",
      "source": [
        "# Importando as bibliotecas Pandas, Matplotlib (plt) e Seaborn (sns) para manipulação de dados, visualização e plotagem de gráficos, respectivamente.\n",
        "import pandas as pd\n",
        "import matplotlib.pyplot as plt\n",
        "import seaborn as sns"
      ],
      "metadata": {
        "id": "zbMHhKwfOngf"
      },
      "execution_count": 60,
      "outputs": []
    },
    {
      "cell_type": "code",
      "source": [
        "# Plotando um gráfico de dispersão usando os dados das colunas 'saida' (eixo 'x') e 'gravidade' (eixo 'y') do DataFrame, usando pontos ('o') como marcadores\n",
        "plt.plot(dados_spark_sem_na_pd['saida'], dados_spark_sem_na_pd['gravidade'], 'o')\n",
        "plt.xlabel('saida')\n",
        "plt.ylabel('gravidade')\n",
        "plt.show()"
      ],
      "metadata": {
        "colab": {
          "base_uri": "https://localhost:8080/",
          "height": 449
        },
        "id": "RZQ8DiCbMmyd",
        "outputId": "67f3a163-560f-4564-d227-cb803bfdc944"
      },
      "execution_count": 61,
      "outputs": [
        {
          "output_type": "display_data",
          "data": {
            "text/plain": [
              "<Figure size 640x480 with 1 Axes>"
            ],
            "image/png": "[encoded data removed]"
          },
          "metadata": {}
        }
      ]
    },
    {
      "cell_type": "code",
      "source": [
        "# Gerando um gráfico de contagem usando a biblioteca Seaborn (sns) no qual o eixo x representa os valores da coluna \"saida\" do DataFrame\n",
        "sns.countplot(x=\"saida\", data=dados_spark_sem_na_pd)\n",
        "plt.show()"
      ],
      "metadata": {
        "colab": {
          "base_uri": "https://localhost:8080/",
          "height": 449
        },
        "id": "c2JUT_hfQUfd",
        "outputId": "5b775039-18d0-484c-f314-14804e9e33b6"
      },
      "execution_count": 62,
      "outputs": [
        {
          "output_type": "display_data",
          "data": {
            "text/plain": [
              "<Figure size 640x480 with 1 Axes>"
            ],
            "image/png": "[encoded data removed]"
          },
          "metadata": {}
        }
      ]
    },
    {
      "cell_type": "code",
      "source": [
        "# Gerando um gráfico de contagem (countplot) da variável \"gravidade\" em relação aos dados contidos no DataFrame usando a biblioteca Seaborn (sns).\n",
        "sns.countplot(y=\"gravidade\", data=dados_spark_sem_na_pd)\n",
        "plt.show(5)"
      ],
      "metadata": {
        "colab": {
          "base_uri": "https://localhost:8080/",
          "height": 449
        },
        "id": "RyWrHRtyZ7h5",
        "outputId": "4d3c5176-1a9f-47c5-ccff-5da15850dbf5"
      },
      "execution_count": 63,
      "outputs": [
        {
          "output_type": "display_data",
          "data": {
            "text/plain": [
              "<Figure size 640x480 with 1 Axes>"
            ],
            "image/png": "[encoded data removed]"
          },
          "metadata": {}
        }
      ]
    },
    {
      "cell_type": "code",
      "source": [
        "# Importando a classe SparkSession do módulo sql do pacote pyspark.\n",
        "from pyspark.sql import SparkSession"
      ],
      "metadata": {
        "id": "sI64gqapXo0l"
      },
      "execution_count": 64,
      "outputs": []
    },
    {
      "cell_type": "code",
      "source": [
        "# Importando classes específicas do pacote pyspark.ml para uso posterior\n",
        "from pyspark.ml.classification import DecisionTreeClassifier, NaiveBayes\n",
        "from pyspark.ml.evaluation import MulticlassClassificationEvaluator\n",
        "from pyspark.ml.feature import VectorAssembler"
      ],
      "metadata": {
        "id": "PrMTCGS5Mnr3"
      },
      "execution_count": 65,
      "outputs": []
    },
    {
      "cell_type": "code",
      "source": [
        "# Criando uma sessão Spark chamada \"ClassificationEvaluation\" e a atribui à variável spark, caso ela ainda não exista.\n",
        "spark = SparkSession.builder.appName(\"ClassificationEvaluation\").getOrCreate()\n",
        "data = [(1.013, 6.19, 443\t,14.8\t, 124, 1.45, 0), (1.025, 5.4,\t703,\t23.6,\t394, 4.8, 0), (1.021, 4.91,\t442, 20.8, 398, 6.3, 1), (1.021, 5.53, 874, 17.8, 385, 2.21, 1), (1.017, 5.97,\t487, 15.5, 255, 12.68, 0), (1.021, 5.16, 947,\t26.0, 398, 8.94, 1),(1.021,\t5.94,\t956, 27.6,\t473, 4.45, 1)]\n",
        "columns = [\"gravidade\",\"ph\",\"osmo\",\"cond\",\"ureia\",\"calcio\",\"saida\"]\n",
        "df = spark.createDataFrame(data, columns)\n",
        "df.show()"
      ],
      "metadata": {
        "colab": {
          "base_uri": "https://localhost:8080/"
        },
        "id": "ux0PfyVROI0S",
        "outputId": "f497f351-fc30-4a66-f820-06e57edafc6d"
      },
      "execution_count": 66,
      "outputs": [
        {
          "output_type": "stream",
          "name": "stdout",
          "text": [
            "+---------+----+----+----+-----+------+-----+\n",
            "|gravidade|  ph|osmo|cond|ureia|calcio|saida|\n",
            "+---------+----+----+----+-----+------+-----+\n",
            "|    1.013|6.19| 443|14.8|  124|  1.45|    0|\n",
            "|    1.025| 5.4| 703|23.6|  394|   4.8|    0|\n",
            "|    1.021|4.91| 442|20.8|  398|   6.3|    1|\n",
            "|    1.021|5.53| 874|17.8|  385|  2.21|    1|\n",
            "|    1.017|5.97| 487|15.5|  255| 12.68|    0|\n",
            "|    1.021|5.16| 947|26.0|  398|  8.94|    1|\n",
            "|    1.021|5.94| 956|27.6|  473|  4.45|    1|\n",
            "+---------+----+----+----+-----+------+-----+\n",
            "\n"
          ]
        }
      ]
    },
    {
      "cell_type": "code",
      "source": [
        "# Utilizando o VectorAssembler para combinar várias colunas de entrada em uma única coluna de saída chamada \"features\"\n",
        "# E então transformando o DataFrame df com esse assembler, resultando no DataFrame data\n",
        "assembler = VectorAssembler(inputCols=[\"gravidade\",\"ph\",\"osmo\",\"cond\",\"ureia\",\"calcio\" ], outputCol=\"features\")\n",
        "data = assembler.transform(df)\n",
        "data.show()"
      ],
      "metadata": {
        "colab": {
          "base_uri": "https://localhost:8080/"
        },
        "id": "V110Aa1WRq11",
        "outputId": "837d93cd-2c1a-4f68-d95e-4384f7921b2c"
      },
      "execution_count": 67,
      "outputs": [
        {
          "output_type": "stream",
          "name": "stdout",
          "text": [
            "+---------+----+----+----+-----+------+-----+--------------------+\n",
            "|gravidade|  ph|osmo|cond|ureia|calcio|saida|            features|\n",
            "+---------+----+----+----+-----+------+-----+--------------------+\n",
            "|    1.013|6.19| 443|14.8|  124|  1.45|    0|[1.013,6.19,443.0...|\n",
            "|    1.025| 5.4| 703|23.6|  394|   4.8|    0|[1.025,5.4,703.0,...|\n",
            "|    1.021|4.91| 442|20.8|  398|   6.3|    1|[1.021,4.91,442.0...|\n",
            "|    1.021|5.53| 874|17.8|  385|  2.21|    1|[1.021,5.53,874.0...|\n",
            "|    1.017|5.97| 487|15.5|  255| 12.68|    0|[1.017,5.97,487.0...|\n",
            "|    1.021|5.16| 947|26.0|  398|  8.94|    1|[1.021,5.16,947.0...|\n",
            "|    1.021|5.94| 956|27.6|  473|  4.45|    1|[1.021,5.94,956.0...|\n",
            "+---------+----+----+----+-----+------+-----+--------------------+\n",
            "\n"
          ]
        }
      ]
    },
    {
      "cell_type": "code",
      "source": [
        "# Fazendo a divisão dos dados em conjuntos de treino e teste, com 80% dos dados para treino e 20% para teste\n",
        "train_data, test_data = data.randomSplit([0.8, 0.2], seed=123)\n",
        "dt = DecisionTreeClassifier(featuresCol=\"features\", labelCol=\"saida\")"
      ],
      "metadata": {
        "id": "_xS4sJJeSvzq"
      },
      "execution_count": 68,
      "outputs": []
    },
    {
      "cell_type": "code",
      "source": [
        "# Criando um avaliador de classificação multiclasse\n",
        "evaluator = MulticlassClassificationEvaluator(labelCol=\"saida\", predictionCol=\"prediction\", metricName=\"accuracy\")\n",
        "model = nb.fit(train_data)\n",
        "predictions = model.transform(test_data)\n",
        "accuracy = evaluator.evaluate(predictions)\n",
        "print(\"Acurácia do Modelo:\", accuracy)"
      ],
      "metadata": {
        "id": "RwlOSp3nUoj9",
        "colab": {
          "base_uri": "https://localhost:8080/"
        },
        "outputId": "23abf299-114c-4c3d-93c3-4b5caf8eaec1"
      },
      "execution_count": 69,
      "outputs": [
        {
          "output_type": "stream",
          "name": "stdout",
          "text": [
            "Acurácia do Modelo: 0.5\n"
          ]
        }
      ]
    },
    {
      "cell_type": "code",
      "source": [
        "# Ajustando um modelo de árvore de decisão aos dados de treinamento e, em seguida, usando esse modelo para fazer previsões nos dados de teste\n",
        "model1 = dt.fit(train_data)\n",
        "predictions1 = model1.transform(test_data)\n",
        "predictions1.select(\"gravidade\",\"ph\",\"osmo\",\"cond\",\"ureia\",\"calcio\",\"saida\",\"prediction\").show()"
      ],
      "metadata": {
        "id": "BxGoPemAZ78J",
        "colab": {
          "base_uri": "https://localhost:8080/"
        },
        "outputId": "b49e5c5c-540b-463a-bc5c-4cdb574b6014"
      },
      "execution_count": 70,
      "outputs": [
        {
          "output_type": "stream",
          "name": "stdout",
          "text": [
            "+---------+----+----+----+-----+------+-----+----------+\n",
            "|gravidade|  ph|osmo|cond|ureia|calcio|saida|prediction|\n",
            "+---------+----+----+----+-----+------+-----+----------+\n",
            "|    1.025| 5.4| 703|23.6|  394|   4.8|    0|       1.0|\n",
            "|    1.021|5.53| 874|17.8|  385|  2.21|    1|       1.0|\n",
            "+---------+----+----+----+-----+------+-----+----------+\n",
            "\n"
          ]
        }
      ]
    },
    {
      "cell_type": "code",
      "source": [
        "# Utilizando o MulticlassClassificationEvaluator para avaliar a precisão ponderada de um modelo de classificação multiclasse usando as previsões em relação aos rótulos reais.\n",
        "evaluatorPrecisao = MulticlassClassificationEvaluator(labelCol=\"saida\", predictionCol=\"prediction\", metricName=\"weightedPrecision\")\n",
        "precisao = evaluatorPrecisao.evaluate(predictions)\n",
        "print(\"Precisao do Modelo Árvore de Decisão:\", precisao)"
      ],
      "metadata": {
        "id": "kEvPyjMua2co",
        "colab": {
          "base_uri": "https://localhost:8080/"
        },
        "outputId": "7f1db9ce-8913-44bf-82a4-3c4a6b96bd8b"
      },
      "execution_count": 71,
      "outputs": [
        {
          "output_type": "stream",
          "name": "stdout",
          "text": [
            "Precisao do Modelo Árvore de Decisão: 0.25\n"
          ]
        }
      ]
    },
    {
      "cell_type": "code",
      "source": [
        "# Importar a biblioteca necessária\n",
        "from pyspark.mllib.evaluation import MulticlassMetrics\n",
        "\n",
        "# Converter as previsões para o formato necessário para o MulticlassMetrics\n",
        "predictionAndLabels = predictions.select(\"prediction\", \"saida\").rdd.map(lambda p: (float(p[0]), float(p[1])))\n",
        "\n",
        "# Criar um objeto MulticlassMetrics\n",
        "metrics = MulticlassMetrics(predictionAndLabels)\n",
        "\n",
        "# Calcular a matriz de confusão\n",
        "confusion_matrix = metrics.confusionMatrix().toArray()\n",
        "\n",
        "# Calcular as métricas para a classe 0\n",
        "precision_0 = metrics.precision(0)\n",
        "recall_0 = metrics.recall(0)\n",
        "f1_0 = metrics.fMeasure(0.0)\n",
        "\n",
        "# Calcular as métricas para a classe 1\n",
        "precision_1 = metrics.precision(1)\n",
        "recall_1 = metrics.recall(1)\n",
        "f1_1 = metrics.fMeasure(1.0)\n",
        "\n",
        "# Imprimir as métricas\n",
        "print(\"Classe 0: precisão = {}, recall = {}, F1 = {}\".format(precision_0, recall_0, f1_0))\n",
        "print(\"Classe 1: precisão = {}, recall = {}, F1 = {}\".format(precision_1, recall_1, f1_1))\n",
        "spark.stop()"
      ],
      "metadata": {
        "id": "aAjtK2RelWvj",
        "colab": {
          "base_uri": "https://localhost:8080/"
        },
        "outputId": "0e55bf40-f7b5-4fc2-c009-bfc46644d058"
      },
      "execution_count": 72,
      "outputs": [
        {
          "output_type": "stream",
          "name": "stderr",
          "text": [
            "/usr/local/lib/python3.10/dist-packages/pyspark/sql/context.py:158: FutureWarning: Deprecated in 3.0.0. Use SparkSession.builder.getOrCreate() instead.\n",
            "  warnings.warn(\n"
          ]
        },
        {
          "output_type": "stream",
          "name": "stdout",
          "text": [
            "Classe 0: precisão = 0.0, recall = 0.0, F1 = 0.0\n",
            "Classe 1: precisão = 0.5, recall = 1.0, F1 = 0.6666666666666666\n"
          ]
        }
      ]
    },
    {
      "cell_type": "markdown",
      "source": [
        "Com base nas analises preditivas:\n",
        "\n",
        "**Qual classe o modelo mais acertou?**\n",
        "\n",
        "o modelo não acertou nenhuma das instâncias da classe 0 (precisão = 0.0, recall = 0.0, F1 = 0.0).\n",
        "\n",
        "O modelo parece ter acertado todas as instâncias da classe 1 (precisão = 0.5, recall = 1.0, F1 = 0.6666666666666666).\n",
        "\n",
        "**Para qual classe o moddelo teve mais precisão?**\n",
        "\n",
        "A precisão é maior para a classe 1.\n",
        "\n",
        "**Qual foi a acurácia do modelo?**\n",
        "\n",
        "A acurácia geral do modelo não foi fornecida, mas com base nas métricas fornecidas, parece que o modelo tem uma acurácia maior para a classe 1.\n",
        "\n",
        "**Você implementaria o modelo no sistema de detecção de cálculo renal, com base nos resultados?**\n",
        "\n",
        "###Com base nos resultados acima, o modelo tem um desempenho melhor na previsão da classe 1. No entanto, o desempenho na classe 0 é muito pobre. Isso pode ser um problema se ambas as classes forem importantes para a detecção de cálculo renal. Portanto, pode ser necessário ajustar o modelo ou experimentar um algoritmo de classificação diferente para melhorar o desempenho na classe 0. Além disso, seria útil avaliar outras métricas (como AUC-ROC) e considerar o custo de falsos positivos e falsos negativos ao escolher um modelo para implementação.\n"
      ],
      "metadata": {
        "id": "o5B0e4fVtdet"
      }
    }
  ]
}